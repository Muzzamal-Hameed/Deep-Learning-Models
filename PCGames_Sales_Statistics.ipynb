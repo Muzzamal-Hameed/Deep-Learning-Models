{
  "nbformat": 4,
  "nbformat_minor": 0,
  "metadata": {
    "colab": {
      "name": "PCGames_Sales_Statistics.ipynb",
      "provenance": [],
      "collapsed_sections": [],
      "authorship_tag": "ABX9TyNuhmensN4hqpJGZRcYBf4z",
      "include_colab_link": true
    },
    "kernelspec": {
      "name": "python3",
      "display_name": "Python 3"
    },
    "language_info": {
      "name": "python"
    }
  },
  "cells": [
    {
      "cell_type": "markdown",
      "metadata": {
        "id": "view-in-github",
        "colab_type": "text"
      },
      "source": [
        "<a href=\"https://colab.research.google.com/github/Muzzamal-Hameed/Deep-Learning-Models/blob/main/PCGames_Sales_Statistics.ipynb\" target=\"_parent\"><img src=\"https://colab.research.google.com/assets/colab-badge.svg\" alt=\"Open In Colab\"/></a>"
      ]
    },
    {
      "cell_type": "code",
      "execution_count": 2,
      "metadata": {
        "id": "TlEw6mgkOXCf"
      },
      "outputs": [],
      "source": [
        "from google.colab import drive"
      ]
    },
    {
      "cell_type": "code",
      "source": [
        "drive.mount('/content/gdrive')"
      ],
      "metadata": {
        "colab": {
          "base_uri": "https://localhost:8080/"
        },
        "id": "AyQzA0y9OkkO",
        "outputId": "88f9dd02-4f44-43a1-d98b-d21a3196591c"
      },
      "execution_count": 3,
      "outputs": [
        {
          "output_type": "stream",
          "name": "stdout",
          "text": [
            "Mounted at /content/gdrive\n"
          ]
        }
      ]
    },
    {
      "cell_type": "code",
      "source": [
        "! mkdir ~/.kaggle"
      ],
      "metadata": {
        "colab": {
          "base_uri": "https://localhost:8080/"
        },
        "id": "wNhrZV92QLAC",
        "outputId": "825355a9-f370-455e-cc5e-40d679622840"
      },
      "execution_count": 7,
      "outputs": [
        {
          "output_type": "stream",
          "name": "stdout",
          "text": [
            "mkdir: cannot create directory ‘/root/.kaggle’: File exists\n"
          ]
        }
      ]
    },
    {
      "cell_type": "code",
      "source": [
        "! cp kaggle.json ~/.kaggle/"
      ],
      "metadata": {
        "id": "-sbMyWg4QP0g"
      },
      "execution_count": 8,
      "outputs": []
    },
    {
      "cell_type": "code",
      "source": [
        "! chmod 600 ~/.kaggle/kaggle.json"
      ],
      "metadata": {
        "id": "cE-WjMM2QRQ3"
      },
      "execution_count": 9,
      "outputs": []
    },
    {
      "cell_type": "code",
      "source": [
        "! kaggle datasets download -d khaiid/most-selling-pc-games"
      ],
      "metadata": {
        "colab": {
          "base_uri": "https://localhost:8080/"
        },
        "id": "hrdjULYaQS7O",
        "outputId": "d348c7d8-41b1-4ecd-d6bf-9acf73e61cf4"
      },
      "execution_count": 11,
      "outputs": [
        {
          "output_type": "stream",
          "name": "stdout",
          "text": [
            "Downloading most-selling-pc-games.zip to /content\n",
            "\r  0% 0.00/5.18k [00:00<?, ?B/s]\n",
            "\r100% 5.18k/5.18k [00:00<00:00, 9.70MB/s]\n"
          ]
        }
      ]
    },
    {
      "cell_type": "code",
      "source": [
        "! unzip most-selling-pc-games"
      ],
      "metadata": {
        "colab": {
          "base_uri": "https://localhost:8080/"
        },
        "id": "HVzuGTdkQV9p",
        "outputId": "363933da-31aa-4d12-c08f-232a1c3c7d27"
      },
      "execution_count": 12,
      "outputs": [
        {
          "output_type": "stream",
          "name": "stdout",
          "text": [
            "Archive:  most-selling-pc-games.zip\n",
            "  inflating: Games.csv               \n"
          ]
        }
      ]
    },
    {
      "cell_type": "code",
      "source": [
        "import numpy as np # linear algebra\n",
        "import pandas as pd"
      ],
      "metadata": {
        "id": "5jeN6LFcQ1hU"
      },
      "execution_count": 13,
      "outputs": []
    },
    {
      "cell_type": "code",
      "source": [
        "game=pd.read_csv('/content/Games.csv')\n",
        "game"
      ],
      "metadata": {
        "colab": {
          "base_uri": "https://localhost:8080/",
          "height": 417
        },
        "id": "qQhjymWuQ4pq",
        "outputId": "8cc875f1-53ff-4aa5-8263-125207b23eaa"
      },
      "execution_count": 14,
      "outputs": [
        {
          "output_type": "execute_result",
          "data": {
            "text/html": [
              "\n",
              "  <div id=\"df-81b6d629-0eae-4ad9-b689-fd40e15a4769\">\n",
              "    <div class=\"colab-df-container\">\n",
              "      <div>\n",
              "<style scoped>\n",
              "    .dataframe tbody tr th:only-of-type {\n",
              "        vertical-align: middle;\n",
              "    }\n",
              "\n",
              "    .dataframe tbody tr th {\n",
              "        vertical-align: top;\n",
              "    }\n",
              "\n",
              "    .dataframe thead th {\n",
              "        text-align: right;\n",
              "    }\n",
              "</style>\n",
              "<table border=\"1\" class=\"dataframe\">\n",
              "  <thead>\n",
              "    <tr style=\"text-align: right;\">\n",
              "      <th></th>\n",
              "      <th>Name</th>\n",
              "      <th>Sales</th>\n",
              "      <th>Series</th>\n",
              "      <th>Release</th>\n",
              "      <th>Genre</th>\n",
              "      <th>Developer</th>\n",
              "      <th>Publisher</th>\n",
              "    </tr>\n",
              "  </thead>\n",
              "  <tbody>\n",
              "    <tr>\n",
              "      <th>0</th>\n",
              "      <td>PlayerUnknown's Battlegrounds</td>\n",
              "      <td>42.0</td>\n",
              "      <td>NaN</td>\n",
              "      <td>Dec-17</td>\n",
              "      <td>Battle royale</td>\n",
              "      <td>PUBG Studios</td>\n",
              "      <td>Krafton</td>\n",
              "    </tr>\n",
              "    <tr>\n",
              "      <th>1</th>\n",
              "      <td>Minecraft</td>\n",
              "      <td>33.0</td>\n",
              "      <td>Minecraft</td>\n",
              "      <td>Nov-11</td>\n",
              "      <td>Sandbox, survival</td>\n",
              "      <td>Mojang Studios</td>\n",
              "      <td>Mojang Studios</td>\n",
              "    </tr>\n",
              "    <tr>\n",
              "      <th>2</th>\n",
              "      <td>Diablo III</td>\n",
              "      <td>20.0</td>\n",
              "      <td>Diablo</td>\n",
              "      <td>May-12</td>\n",
              "      <td>Action role-playing</td>\n",
              "      <td>Blizzard Entertainment</td>\n",
              "      <td>Blizzard Entertainment</td>\n",
              "    </tr>\n",
              "    <tr>\n",
              "      <th>3</th>\n",
              "      <td>Garry's Mod</td>\n",
              "      <td>20.0</td>\n",
              "      <td>NaN</td>\n",
              "      <td>Nov-06</td>\n",
              "      <td>Sandbox</td>\n",
              "      <td>Facepunch Studios</td>\n",
              "      <td>Valve</td>\n",
              "    </tr>\n",
              "    <tr>\n",
              "      <th>4</th>\n",
              "      <td>Terraria</td>\n",
              "      <td>17.2</td>\n",
              "      <td>NaN</td>\n",
              "      <td>May-11</td>\n",
              "      <td>Action-adventure</td>\n",
              "      <td>Re-Logic</td>\n",
              "      <td>Re-Logic</td>\n",
              "    </tr>\n",
              "    <tr>\n",
              "      <th>...</th>\n",
              "      <td>...</td>\n",
              "      <td>...</td>\n",
              "      <td>...</td>\n",
              "      <td>...</td>\n",
              "      <td>...</td>\n",
              "      <td>...</td>\n",
              "      <td>...</td>\n",
              "    </tr>\n",
              "    <tr>\n",
              "      <th>170</th>\n",
              "      <td>Vietcong</td>\n",
              "      <td>1.0</td>\n",
              "      <td>Vietcong</td>\n",
              "      <td>Mar-03</td>\n",
              "      <td>Tactical shooter</td>\n",
              "      <td>Pterodon</td>\n",
              "      <td>Gathering of Developers</td>\n",
              "    </tr>\n",
              "    <tr>\n",
              "      <th>171</th>\n",
              "      <td>Warhammer Online: Age of Reckoning</td>\n",
              "      <td>1.0</td>\n",
              "      <td>Warhammer</td>\n",
              "      <td>Sep-08</td>\n",
              "      <td>MMORPG</td>\n",
              "      <td>Mythic Entertainment</td>\n",
              "      <td>Electronic Arts</td>\n",
              "    </tr>\n",
              "    <tr>\n",
              "      <th>172</th>\n",
              "      <td>Who Wants to Be a Millionaire?</td>\n",
              "      <td>1.0</td>\n",
              "      <td>NaN</td>\n",
              "      <td>Nov-99</td>\n",
              "      <td>Trivia game</td>\n",
              "      <td>Jellyvision</td>\n",
              "      <td>Disney Interactive Studios</td>\n",
              "    </tr>\n",
              "    <tr>\n",
              "      <th>173</th>\n",
              "      <td>Wing Commander 3: Heart of the Tiger</td>\n",
              "      <td>1.0</td>\n",
              "      <td>Wing Commander</td>\n",
              "      <td>Dec-94</td>\n",
              "      <td>Space combat simulation</td>\n",
              "      <td>Origin Systems</td>\n",
              "      <td>Electronic Arts</td>\n",
              "    </tr>\n",
              "    <tr>\n",
              "      <th>174</th>\n",
              "      <td>Zoo Tycoon</td>\n",
              "      <td>1.0</td>\n",
              "      <td>Zoo Tycoon</td>\n",
              "      <td>Oct-01</td>\n",
              "      <td>Business simulation</td>\n",
              "      <td>Microsoft</td>\n",
              "      <td>Blue Fang Games</td>\n",
              "    </tr>\n",
              "  </tbody>\n",
              "</table>\n",
              "<p>175 rows × 7 columns</p>\n",
              "</div>\n",
              "      <button class=\"colab-df-convert\" onclick=\"convertToInteractive('df-81b6d629-0eae-4ad9-b689-fd40e15a4769')\"\n",
              "              title=\"Convert this dataframe to an interactive table.\"\n",
              "              style=\"display:none;\">\n",
              "        \n",
              "  <svg xmlns=\"http://www.w3.org/2000/svg\" height=\"24px\"viewBox=\"0 0 24 24\"\n",
              "       width=\"24px\">\n",
              "    <path d=\"M0 0h24v24H0V0z\" fill=\"none\"/>\n",
              "    <path d=\"M18.56 5.44l.94 2.06.94-2.06 2.06-.94-2.06-.94-.94-2.06-.94 2.06-2.06.94zm-11 1L8.5 8.5l.94-2.06 2.06-.94-2.06-.94L8.5 2.5l-.94 2.06-2.06.94zm10 10l.94 2.06.94-2.06 2.06-.94-2.06-.94-.94-2.06-.94 2.06-2.06.94z\"/><path d=\"M17.41 7.96l-1.37-1.37c-.4-.4-.92-.59-1.43-.59-.52 0-1.04.2-1.43.59L10.3 9.45l-7.72 7.72c-.78.78-.78 2.05 0 2.83L4 21.41c.39.39.9.59 1.41.59.51 0 1.02-.2 1.41-.59l7.78-7.78 2.81-2.81c.8-.78.8-2.07 0-2.86zM5.41 20L4 18.59l7.72-7.72 1.47 1.35L5.41 20z\"/>\n",
              "  </svg>\n",
              "      </button>\n",
              "      \n",
              "  <style>\n",
              "    .colab-df-container {\n",
              "      display:flex;\n",
              "      flex-wrap:wrap;\n",
              "      gap: 12px;\n",
              "    }\n",
              "\n",
              "    .colab-df-convert {\n",
              "      background-color: #E8F0FE;\n",
              "      border: none;\n",
              "      border-radius: 50%;\n",
              "      cursor: pointer;\n",
              "      display: none;\n",
              "      fill: #1967D2;\n",
              "      height: 32px;\n",
              "      padding: 0 0 0 0;\n",
              "      width: 32px;\n",
              "    }\n",
              "\n",
              "    .colab-df-convert:hover {\n",
              "      background-color: #E2EBFA;\n",
              "      box-shadow: 0px 1px 2px rgba(60, 64, 67, 0.3), 0px 1px 3px 1px rgba(60, 64, 67, 0.15);\n",
              "      fill: #174EA6;\n",
              "    }\n",
              "\n",
              "    [theme=dark] .colab-df-convert {\n",
              "      background-color: #3B4455;\n",
              "      fill: #D2E3FC;\n",
              "    }\n",
              "\n",
              "    [theme=dark] .colab-df-convert:hover {\n",
              "      background-color: #434B5C;\n",
              "      box-shadow: 0px 1px 3px 1px rgba(0, 0, 0, 0.15);\n",
              "      filter: drop-shadow(0px 1px 2px rgba(0, 0, 0, 0.3));\n",
              "      fill: #FFFFFF;\n",
              "    }\n",
              "  </style>\n",
              "\n",
              "      <script>\n",
              "        const buttonEl =\n",
              "          document.querySelector('#df-81b6d629-0eae-4ad9-b689-fd40e15a4769 button.colab-df-convert');\n",
              "        buttonEl.style.display =\n",
              "          google.colab.kernel.accessAllowed ? 'block' : 'none';\n",
              "\n",
              "        async function convertToInteractive(key) {\n",
              "          const element = document.querySelector('#df-81b6d629-0eae-4ad9-b689-fd40e15a4769');\n",
              "          const dataTable =\n",
              "            await google.colab.kernel.invokeFunction('convertToInteractive',\n",
              "                                                     [key], {});\n",
              "          if (!dataTable) return;\n",
              "\n",
              "          const docLinkHtml = 'Like what you see? Visit the ' +\n",
              "            '<a target=\"_blank\" href=https://colab.research.google.com/notebooks/data_table.ipynb>data table notebook</a>'\n",
              "            + ' to learn more about interactive tables.';\n",
              "          element.innerHTML = '';\n",
              "          dataTable['output_type'] = 'display_data';\n",
              "          await google.colab.output.renderOutput(dataTable, element);\n",
              "          const docLink = document.createElement('div');\n",
              "          docLink.innerHTML = docLinkHtml;\n",
              "          element.appendChild(docLink);\n",
              "        }\n",
              "      </script>\n",
              "    </div>\n",
              "  </div>\n",
              "  "
            ],
            "text/plain": [
              "                                     Name  ...                   Publisher\n",
              "0           PlayerUnknown's Battlegrounds  ...                     Krafton\n",
              "1                               Minecraft  ...              Mojang Studios\n",
              "2                              Diablo III  ...      Blizzard Entertainment\n",
              "3                             Garry's Mod  ...                       Valve\n",
              "4                                Terraria  ...                    Re-Logic\n",
              "..                                    ...  ...                         ...\n",
              "170                              Vietcong  ...     Gathering of Developers\n",
              "171    Warhammer Online: Age of Reckoning  ...             Electronic Arts\n",
              "172        Who Wants to Be a Millionaire?  ...  Disney Interactive Studios\n",
              "173  Wing Commander 3: Heart of the Tiger  ...             Electronic Arts\n",
              "174                            Zoo Tycoon  ...             Blue Fang Games\n",
              "\n",
              "[175 rows x 7 columns]"
            ]
          },
          "metadata": {},
          "execution_count": 14
        }
      ]
    },
    {
      "cell_type": "code",
      "source": [
        "game.info()"
      ],
      "metadata": {
        "colab": {
          "base_uri": "https://localhost:8080/"
        },
        "id": "QSVdsQ1_RB5h",
        "outputId": "31e8d569-3e45-494b-eb10-94915a99fe93"
      },
      "execution_count": 15,
      "outputs": [
        {
          "output_type": "stream",
          "name": "stdout",
          "text": [
            "<class 'pandas.core.frame.DataFrame'>\n",
            "RangeIndex: 175 entries, 0 to 174\n",
            "Data columns (total 7 columns):\n",
            " #   Column     Non-Null Count  Dtype  \n",
            "---  ------     --------------  -----  \n",
            " 0   Name       175 non-null    object \n",
            " 1   Sales      175 non-null    float64\n",
            " 2   Series     139 non-null    object \n",
            " 3   Release    175 non-null    object \n",
            " 4   Genre      175 non-null    object \n",
            " 5   Developer  175 non-null    object \n",
            " 6   Publisher  175 non-null    object \n",
            "dtypes: float64(1), object(6)\n",
            "memory usage: 9.7+ KB\n"
          ]
        }
      ]
    },
    {
      "cell_type": "markdown",
      "source": [
        "#Most popular genre"
      ],
      "metadata": {
        "id": "h2c1LzCFRIdu"
      }
    },
    {
      "cell_type": "code",
      "source": [
        "game.groupby(['Genre'])['Sales'].sum().nlargest(10)"
      ],
      "metadata": {
        "colab": {
          "base_uri": "https://localhost:8080/"
        },
        "id": "3YY-41vyRFCq",
        "outputId": "880238bd-1f39-4b16-d351-b8d6f7893bb8"
      },
      "execution_count": 17,
      "outputs": [
        {
          "output_type": "execute_result",
          "data": {
            "text/plain": [
              "Genre\n",
              "Action role-playing                       58.1\n",
              "Real-time strategy                        55.0\n",
              "Battle royale                             52.0\n",
              "First-person shooter                      46.0\n",
              "Sandbox, survival                         33.0\n",
              "Action-adventure                          31.7\n",
              "MMORPG                                    30.0\n",
              "Construction and management simulation    25.8\n",
              "Survival                                  25.0\n",
              "Life simulation                           24.0\n",
              "Name: Sales, dtype: float64"
            ]
          },
          "metadata": {},
          "execution_count": 17
        }
      ]
    },
    {
      "cell_type": "code",
      "source": [
        "game.groupby(['Genre'])['Sales'].count().nlargest(10)"
      ],
      "metadata": {
        "colab": {
          "base_uri": "https://localhost:8080/"
        },
        "id": "ciIvJDcLRH9Q",
        "outputId": "22ed939e-0897-47a1-c54a-e958af479bea"
      },
      "execution_count": 21,
      "outputs": [
        {
          "output_type": "execute_result",
          "data": {
            "text/plain": [
              "Genre\n",
              "Real-time strategy                        24\n",
              "First-person shooter                      19\n",
              "Action role-playing                       12\n",
              "Construction and management simulation     9\n",
              "Role-playing game                          8\n",
              "Action-adventure                           6\n",
              "City-building                              6\n",
              "MMORPG                                     6\n",
              "Survival                                   5\n",
              "Action                                     4\n",
              "Name: Sales, dtype: int64"
            ]
          },
          "metadata": {},
          "execution_count": 21
        }
      ]
    },
    {
      "cell_type": "markdown",
      "source": [
        "#Most popular Publisher"
      ],
      "metadata": {
        "id": "H6A0PeU7Rc4C"
      }
    },
    {
      "cell_type": "code",
      "source": [
        "game.groupby(['Publisher'])['Sales'].sum().nlargest(10)"
      ],
      "metadata": {
        "colab": {
          "base_uri": "https://localhost:8080/"
        },
        "id": "Rnnk8XguRTf9",
        "outputId": "eba199b8-0014-4a87-e68a-6b85089330e1"
      },
      "execution_count": 28,
      "outputs": [
        {
          "output_type": "execute_result",
          "data": {
            "text/plain": [
              "Publisher\n",
              "Blizzard Entertainment    59.0\n",
              "Electronic Arts           54.0\n",
              "Krafton                   42.0\n",
              "Mojang Studios            33.0\n",
              "Valve                     20.0\n",
              "CD Projekt                18.5\n",
              "Re-Logic                  17.2\n",
              "Valve (digital)           14.0\n",
              "Activision                13.5\n",
              "Paradox Interactive       12.5\n",
              "Name: Sales, dtype: float64"
            ]
          },
          "metadata": {},
          "execution_count": 28
        }
      ]
    },
    {
      "cell_type": "code",
      "source": [
        "game.groupby(['Publisher'])['Sales'].count().nlargest(10)"
      ],
      "metadata": {
        "colab": {
          "base_uri": "https://localhost:8080/"
        },
        "id": "aZhmh7yGRfam",
        "outputId": "623bff0e-29ef-442e-ad3e-d403729283dd"
      },
      "execution_count": 34,
      "outputs": [
        {
          "output_type": "execute_result",
          "data": {
            "text/plain": [
              "Publisher\n",
              "Electronic Arts            19\n",
              "Blizzard Entertainment      8\n",
              "Paradox Interactive         7\n",
              "Activision                  6\n",
              "GT Interactive              5\n",
              "Capcom                      4\n",
              "Gathering of Developers     4\n",
              "Microsoft                   4\n",
              "CD Projekt                  3\n",
              "LucasArts                   3\n",
              "Name: Sales, dtype: int64"
            ]
          },
          "metadata": {},
          "execution_count": 34
        }
      ]
    },
    {
      "cell_type": "markdown",
      "source": [
        "#Most games developed by a developer"
      ],
      "metadata": {
        "id": "J9mFSTh2RjF2"
      }
    },
    {
      "cell_type": "code",
      "source": [
        "game.groupby(['Developer'])['Sales'].sum().nlargest(10)"
      ],
      "metadata": {
        "colab": {
          "base_uri": "https://localhost:8080/"
        },
        "id": "A96_mutvRhMH",
        "outputId": "f69696b5-3db0-43de-afaf-6fcb3ea519dd"
      },
      "execution_count": 30,
      "outputs": [
        {
          "output_type": "execute_result",
          "data": {
            "text/plain": [
              "Developer\n",
              "Blizzard Entertainment    58.0\n",
              "PUBG Studios              42.0\n",
              "Maxis                     33.0\n",
              "Mojang Studios            33.0\n",
              "Facepunch Studios         29.0\n",
              "Valve                     25.0\n",
              "CD Projekt Red            20.5\n",
              "Re-Logic                  17.2\n",
              "Firaxis Games             13.0\n",
              "Frontier Developments     12.0\n",
              "Name: Sales, dtype: float64"
            ]
          },
          "metadata": {},
          "execution_count": 30
        }
      ]
    },
    {
      "cell_type": "code",
      "source": [
        "game.groupby(['Developer'])['Sales'].count().nlargest(10)"
      ],
      "metadata": {
        "colab": {
          "base_uri": "https://localhost:8080/"
        },
        "id": "Ts19UQeLRlrY",
        "outputId": "13bc039f-02e1-46f8-82f7-ed3fe16e0833"
      },
      "execution_count": 35,
      "outputs": [
        {
          "output_type": "execute_result",
          "data": {
            "text/plain": [
              "Developer\n",
              "Blizzard Entertainment        8\n",
              "Maxis                         6\n",
              "Paradox Development Studio    5\n",
              "CD Projekt Red                4\n",
              "Capcom                        4\n",
              "Ensemble Studios              4\n",
              "Valve                         4\n",
              "Westwood Studios              4\n",
              "id Software                   4\n",
              "BioWare                       3\n",
              "Name: Sales, dtype: int64"
            ]
          },
          "metadata": {},
          "execution_count": 35
        }
      ]
    },
    {
      "cell_type": "markdown",
      "source": [
        "#Most popular Series"
      ],
      "metadata": {
        "id": "M7BME1voRppr"
      }
    },
    {
      "cell_type": "code",
      "source": [
        "game.groupby(['Series'])['Sales'].sum().nlargest(10)"
      ],
      "metadata": {
        "colab": {
          "base_uri": "https://localhost:8080/"
        },
        "id": "BRBcwxhURsQ0",
        "outputId": "15daac27-ed68-4db9-f7bd-c731a6a0df10"
      },
      "execution_count": 33,
      "outputs": [
        {
          "output_type": "execute_result",
          "data": {
            "text/plain": [
              "Series\n",
              "Minecraft               33.0\n",
              "Diablo                  26.0\n",
              "The Sims                24.0\n",
              "Half-Life               21.0\n",
              "StarCraft               19.0\n",
              "Warcraft                19.0\n",
              "The Witcher             16.0\n",
              "Civilization            14.0\n",
              "RollerCoaster Tycoon    14.0\n",
              "Guild Wars              11.0\n",
              "Name: Sales, dtype: float64"
            ]
          },
          "metadata": {},
          "execution_count": 33
        }
      ]
    },
    {
      "cell_type": "code",
      "source": [
        "game.groupby(['Series'])['Sales'].count().nlargest(10)"
      ],
      "metadata": {
        "colab": {
          "base_uri": "https://localhost:8080/"
        },
        "id": "BT4XyW7aRnau",
        "outputId": "42937482-80d1-4224-c154-e9b705760201"
      },
      "execution_count": 32,
      "outputs": [
        {
          "output_type": "execute_result",
          "data": {
            "text/plain": [
              "Series\n",
              "Command & Conquer    5\n",
              "Age of Empires       4\n",
              "Civilization         4\n",
              "StarCraft            4\n",
              "Dark Souls           3\n",
              "Diablo               3\n",
              "Resident Evil        3\n",
              "SimCity              3\n",
              "The Sims             3\n",
              "The Witcher          3\n",
              "Name: Sales, dtype: int64"
            ]
          },
          "metadata": {},
          "execution_count": 32
        }
      ]
    },
    {
      "cell_type": "code",
      "source": [
        ""
      ],
      "metadata": {
        "id": "VjqVY_dXRt0_"
      },
      "execution_count": null,
      "outputs": []
    }
  ]
}